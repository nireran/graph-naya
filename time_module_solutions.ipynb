{
 "cells": [
  {
   "cell_type": "markdown",
   "metadata": {},
   "source": [
    "# _time_ module - solutions"
   ]
  },
  {
   "cell_type": "markdown",
   "metadata": {},
   "source": [
    "## Exercise 1"
   ]
  },
  {
   "cell_type": "code",
   "execution_count": 3,
   "metadata": {},
   "outputs": [],
   "source": [
    "from time import time\n",
    "\n",
    "def rev1(x):\n",
    "    N = len(x)\n",
    "    [x[N-i] for i in range(1, N)]\n",
    "\n",
    "def rev2(x):\n",
    "    x[::-1]\n",
    "\n",
    "def rev3(x):\n",
    "    reversed(x)\n",
    "    \n",
    "def rev4(x):\n",
    "    x.reverse()"
   ]
  },
  {
   "cell_type": "code",
   "execution_count": 5,
   "metadata": {},
   "outputs": [],
   "source": [
    "from time import time\n",
    "N = 1000000"
   ]
  },
  {
   "cell_type": "markdown",
   "metadata": {},
   "source": [
    "### Option 1"
   ]
  },
  {
   "cell_type": "code",
   "execution_count": 9,
   "metadata": {},
   "outputs": [
    {
     "name": "stdout",
     "output_type": "stream",
     "text": [
      "Option 1 took 2.476 seconds\n"
     ]
    }
   ],
   "source": [
    "t1 = time()\n",
    "for i in range(N):\n",
    "    rev1(list(range(10)))\n",
    "t2 = time()\n",
    "print(\"Option 1 took {:.3f} seconds\".format(t2 - t1))"
   ]
  },
  {
   "cell_type": "markdown",
   "metadata": {},
   "source": [
    "### Option 2"
   ]
  },
  {
   "cell_type": "code",
   "execution_count": 10,
   "metadata": {},
   "outputs": [
    {
     "name": "stdout",
     "output_type": "stream",
     "text": [
      "Option 2 took 0.947 seconds\n"
     ]
    }
   ],
   "source": [
    "t1 = time()\n",
    "for i in range(N):\n",
    "    rev2(list(range(10)))\n",
    "t2 = time()\n",
    "print(\"Option 2 took {:.3f} seconds\".format(t2 - t1))"
   ]
  },
  {
   "cell_type": "markdown",
   "metadata": {},
   "source": [
    "### Option 3"
   ]
  },
  {
   "cell_type": "code",
   "execution_count": 5,
   "metadata": {},
   "outputs": [
    {
     "name": "stdout",
     "output_type": "stream",
     "text": [
      "Option 3 took 0.534 seconds\n"
     ]
    }
   ],
   "source": [
    "t1 = time()\n",
    "for i in range(N):\n",
    "    rev3(list(range(10)))\n",
    "t2 = time()\n",
    "print(\"Option 3 took {:.3f} seconds\".format(t2 - t1))"
   ]
  },
  {
   "cell_type": "markdown",
   "metadata": {},
   "source": [
    "### Option 4"
   ]
  },
  {
   "cell_type": "code",
   "execution_count": 6,
   "metadata": {},
   "outputs": [
    {
     "name": "stdout",
     "output_type": "stream",
     "text": [
      "Option 4 took 0.451 seconds\n"
     ]
    }
   ],
   "source": [
    "t1 = time()\n",
    "for i in range(N):\n",
    "    rev4(list(range(10)))\n",
    "t2 = time()\n",
    "print(\"Option 4 took {:.3f} seconds\".format(t2 - t1))"
   ]
  },
  {
   "cell_type": "markdown",
   "metadata": {},
   "source": [
    "### General conclusion"
   ]
  },
  {
   "cell_type": "markdown",
   "metadata": {},
   "source": [
    "1) Built-in specialized methods are the best.\n",
    "\n",
    "2) Right after them are the general built-in functions. \n",
    "\n",
    "3) Avoid using loops unless it is necessary."
   ]
  },
  {
   "cell_type": "markdown",
   "metadata": {},
   "source": [
    "## Exercise 2"
   ]
  },
  {
   "cell_type": "code",
   "execution_count": 11,
   "metadata": {},
   "outputs": [
    {
     "name": "stdout",
     "output_type": "stream",
     "text": [
      "NOW!!!\n",
      "It took you 3.499953508377075 seconds to respond.\n"
     ]
    }
   ],
   "source": [
    "from random import uniform\n",
    "from time import sleep, time\n",
    "\n",
    "time_to_wa\n",
    "it = uniform(2, 4)  # Wait a random number of seconds between 2 and 4\n",
    "sleep(time_to_wait)\n",
    "t1 = time()\n",
    "input(\"NOW!!!\")\n",
    "print(\"It took you {} seconds to respond.\".format(time() - t1))"
   ]
  },
  {
   "cell_type": "markdown",
   "metadata": {},
   "source": [
    "## Exercise 3"
   ]
  },
  {
   "cell_type": "code",
   "execution_count": 14,
   "metadata": {},
   "outputs": [
    {
     "name": "stdout",
     "output_type": "stream",
     "text": [
      "10 x 4 = 40\n",
      "8 x 8 = 64\n",
      "8 x 13 = 104\n",
      "8 x 13 = 104\n",
      "4 x 12 = 48\n",
      "7 x 14 = 98\n",
      "11 x 3 = 33\n",
      "Time's up!\n",
      "You've been asked 7 questions in the last 20 seconds.\n",
      "You've answered correctly 7 of them, which translates to a score of 100\n"
     ]
    }
   ],
   "source": [
    "from random import randint\n",
    "from time import time\n",
    "\n",
    "max_number = 15\n",
    "time_limit = 20\n",
    "\n",
    "n_questions = 0\n",
    "n_correct = 0\n",
    "\n",
    "t0 = time()\n",
    "while time() - t0 < time_limit:\n",
    "    a = randint(1, max_number)\n",
    "    b = randint(1, max_number)\n",
    "\n",
    "    ans = int(input(\"{} x {} = \".format(a, b)))\n",
    "    n_questions += 1\n",
    "\n",
    "    if ans == a * b:\n",
    "        n_correct += 1\n",
    "\n",
    "score = int(float(n_correct) / n_questions * 100)\n",
    "\n",
    "print(\"Time's up!\")\n",
    "print(\"You've been asked {} questions in the last {} seconds.\".format(n_questions, time_limit))\n",
    "print(\"You've answered correctly {} of them, which translates to a score of {}\".format(n_correct, score))"
   ]
  }
 ],
 "metadata": {
  "kernelspec": {
   "display_name": "Python 3",
   "language": "python",
   "name": "python3"
  },
  "language_info": {
   "codemirror_mode": {
    "name": "ipython",
    "version": 3
   },
   "file_extension": ".py",
   "mimetype": "text/x-python",
   "name": "python",
   "nbconvert_exporter": "python",
   "pygments_lexer": "ipython3",
   "version": "3.6.5"
  }
 },
 "nbformat": 4,
 "nbformat_minor": 1
}
