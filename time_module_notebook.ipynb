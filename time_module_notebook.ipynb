{
 "cells": [
  {
   "cell_type": "markdown",
   "metadata": {},
   "source": [
    "# The _time_ module"
   ]
  },
  {
   "cell_type": "markdown",
   "metadata": {},
   "source": [
    "The module _time_ is part of the Python Standard Library and it includes various functions for dealing with and manipulating time data. It has a lot in common with the _datetime_ module, but includes some additional methods. We will consider two of them - _time()_ and _sleep()_."
   ]
  },
  {
   "cell_type": "markdown",
   "metadata": {},
   "source": [
    "## _time.time()_"
   ]
  },
  {
   "cell_type": "markdown",
   "metadata": {},
   "source": [
    "the method _time()_ returns a float number representing the time in seconds since an arbitrary location in the past, called _The Epoch_ (01/01/1970 in most OSs). Its main use is for measuring the processing time of code sections."
   ]
  },
  {
   "cell_type": "code",
   "execution_count": 4,
   "metadata": {},
   "outputs": [
    {
     "name": "stdout",
     "output_type": "stream",
     "text": [
      "1535551315.4220827\n"
     ]
    }
   ],
   "source": [
    "from time import time\n",
    "\n",
    "print(time())"
   ]
  },
  {
   "cell_type": "markdown",
   "metadata": {},
   "source": [
    "### Example 1"
   ]
  },
  {
   "cell_type": "markdown",
   "metadata": {},
   "source": [
    "Let's compare different implementations of the same task - summing the numbers from 1 to 100000."
   ]
  },
  {
   "cell_type": "code",
   "execution_count": 5,
   "metadata": {},
   "outputs": [],
   "source": [
    "N = 1000000"
   ]
  },
  {
   "cell_type": "code",
   "execution_count": 13,
   "metadata": {},
   "outputs": [
    {
     "name": "stdout",
     "output_type": "stream",
     "text": [
      "Option 1 took 0.123 seconds\n"
     ]
    }
   ],
   "source": [
    "t1 = time()\n",
    "sum_a = 0\n",
    "for i in range(N):\n",
    "    sum_a += i\n",
    "t2 = time()\n",
    "print(\"Option 1 took {:.3f} seconds\".format(t2 - t1))"
   ]
  },
  {
   "cell_type": "code",
   "execution_count": null,
   "metadata": {},
   "outputs": [],
   "source": []
  },
  {
   "cell_type": "code",
   "execution_count": 21,
   "metadata": {},
   "outputs": [
    {
     "name": "stdout",
     "output_type": "stream",
     "text": [
      "Option 2 took 0.056 seconds\n"
     ]
    }
   ],
   "source": [
    "t1 = time()\n",
    "sum_b = sum(range(N))\n",
    "t2 = time()\n",
    "print(\"Option 2 took {:.3f} seconds\".format(t2 - t1))"
   ]
  },
  {
   "cell_type": "code",
   "execution_count": 26,
   "metadata": {},
   "outputs": [
    {
     "name": "stdout",
     "output_type": "stream",
     "text": [
      "46.8 ms ± 4.91 ms per loop (mean ± std. dev. of 7 runs, 10 loops each)\n"
     ]
    }
   ],
   "source": [
    "%%timeit\n",
    "sum_b = sum(range(N))\n",
    "#print(\"Option 3 took {:.3f} seconds\".format(t2 - t1))"
   ]
  },
  {
   "cell_type": "markdown",
   "metadata": {},
   "source": [
    "## time.sleep()"
   ]
  },
  {
   "cell_type": "markdown",
   "metadata": {},
   "source": [
    "The method _sleep()_ simply pauses the execution of the code. It is useful when the code runs too quickly, and you want to look at some of its intermediate results."
   ]
  },
  {
   "cell_type": "code",
   "execution_count": 23,
   "metadata": {},
   "outputs": [
    {
     "name": "stdout",
     "output_type": "stream",
     "text": [
      "1535549626.5971408\n",
      "1535549627.5975342\n"
     ]
    }
   ],
   "source": [
    "from time import sleep\n",
    "\n",
    "print(time())\n",
    "sleep(1)\n",
    "print(time())"
   ]
  },
  {
   "cell_type": "markdown",
   "metadata": {},
   "source": [
    "### Example 1"
   ]
  },
  {
   "cell_type": "markdown",
   "metadata": {},
   "source": [
    "The following code creates a real-time math quiz. It gives you 2 seconds to answer before it shows the results, and then lets you relax for a second before shooting the next exercise at you. Can you say the answer before it is revealed?"
   ]
  },
  {
   "cell_type": "markdown",
   "metadata": {},
   "source": [
    "#### Note"
   ]
  },
  {
   "cell_type": "code",
   "execution_count": 12,
   "metadata": {},
   "outputs": [
    {
     "name": "stdout",
     "output_type": "stream",
     "text": [
      "7 x 1 = 7\n",
      "6 x 1 = 6\n",
      "5 x 8 = 40\n",
      "4 x 1 = 4\n",
      "2 x 9 = 18\n"
     ]
    }
   ],
   "source": [
    "import sys\n",
    "from random import randint40\n",
    "4\n",
    "from time import sleep\n",
    "\n",
    "for i in range(5):\n",
    "    x = randint(1, 10)\n",
    "    y = randint(1, 10)\n",
    "    print(\"{} x {} =\".format(x, y), end=' ')\n",
    "    sys.stdout.flush()\n",
    "    sleep(2)\n",
    "    print(x * y)\n",
    "    sys.stdout.flush()\n",
    "    sleep(1)"
   ]
  },
  {
   "cell_type": "code",
   "execution_count": null,
   "metadata": {},
   "outputs": [],
   "source": [
    "print('nir')"
   ]
  },
  {
   "cell_type": "markdown",
   "metadata": {},
   "source": [
    "> **NOTE:** For internal reasons IPython holds some of the print-outs in  an internal buffer, and prints everything only at the end of the cell execution. It is therefore problematic to illustrate _sleep()_ simply. You can try it in another IDE (e.g. _PyCharm_) or bypass this buffer-related issue by using the _sys.stdout.flush()_ command, as depicted below."
   ]
  },
  {
   "cell_type": "code",
   "execution_count": 11,
   "metadata": {},
   "outputs": [
    {
     "name": "stdout",
     "output_type": "stream",
     "text": [
      "[5, 4, 3, 2, 1]\n",
      "Option 1 took 0.000 seconds\n"
     ]
    }
   ],
   "source": [
    "t1 = time()\n",
    "ls1=[1,2,3,4,5]\n",
    "print ((ls1[::-1]))\n",
    "t2=time()\n",
    "print(\"Option 1 took {:.3f} seconds\".format(t2 - t1))\n"
   ]
  },
  {
   "cell_type": "code",
   "execution_count": 8,
   "metadata": {},
   "outputs": [
    {
     "name": "stdout",
     "output_type": "stream",
     "text": [
      "Option 1 took 0.000 seconds\n"
     ]
    }
   ],
   "source": [
    "t1 = time()\n",
    "ls2=[]\n",
    "while len(ls1) !=0:\n",
    "    ls2.append(ls1.pop())\n",
    "    print(len(ls1))\n",
    "    \n",
    "t2=time()\n",
    "print(\"Option 1 took {:.3f} seconds\".format(t2 - t1))"
   ]
  },
  {
   "cell_type": "code",
   "execution_count": null,
   "metadata": {},
   "outputs": [],
   "source": []
  }
 ],
 "metadata": {
  "anaconda-cloud": {},
  "kernelspec": {
   "display_name": "Python 3",
   "language": "python",
   "name": "python3"
  },
  "language_info": {
   "codemirror_mode": {
    "name": "ipython",
    "version": 3
   },
   "file_extension": ".py",
   "mimetype": "text/x-python",
   "name": "python",
   "nbconvert_exporter": "python",
   "pygments_lexer": "ipython3",
   "version": "3.6.5"
  }
 },
 "nbformat": 4,
 "nbformat_minor": 1
}
